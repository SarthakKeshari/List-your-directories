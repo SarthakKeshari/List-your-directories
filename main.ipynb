{
 "cells": [
  {
   "cell_type": "code",
   "execution_count": 2,
   "id": "db61a551",
   "metadata": {},
   "outputs": [
    {
     "name": "stdout",
     "output_type": "stream",
     "text": [
      "Enter Target Directory path:C:\\Z_Sarthak\\Personal\\YouTube Channel (Codescope)\n",
      "\n",
      "Target Directory: C:\\Z_Sarthak\\Personal\\YouTube Channel (Codescope) \n",
      "\n",
      "|- Cisco Packet Tracer\n",
      "|- Intro\n",
      "|- Java\n",
      "\t|- 1 PrintStatements\n",
      "\t|- 2 Ifelse\n",
      "\t|- 3 Switch\n",
      "\t|- 4 Loops\n",
      "\t|- Hackerrank\n",
      "\t\t|- Round 1\n",
      "\t\t|- Round 10\n",
      "\t\t|- Round 2\n",
      "\t\t|- Round 3\n",
      "\t\t|- Round 4\n",
      "\t\t|- Round 5\n",
      "\t\t|- Round 6\n",
      "\t\t|- Round 7\n",
      "\t\t|- Round 8\n",
      "\t\t|- Round 9\n",
      "\t|- Pattern Printing\n",
      "\t|- Types of Numbers\n",
      "|- Material\n",
      "|- Tags\n"
     ]
    }
   ],
   "source": [
    "import os\n",
    "import regex as re\n",
    "\n",
    "target_dir = input(\"Enter Target Directory path:\")\n",
    "\n",
    "print(\"\\nTarget Directory:\",target_dir,\"\\n\")\n",
    "target_dir = re.sub(r\"\\\\\",\"/\",target_dir)\n",
    "\n",
    " \n",
    "# List all directories.\n",
    "for (dirpath, dirname, filename) in os.walk(target_dir):\n",
    "    dirpath = dirpath[len(target_dir):]\n",
    "#     print(dirpath)\n",
    "    if(len(dirpath)!=0):\n",
    "        for i in range(dirpath.count(\"\\\\\")-1):\n",
    "            print(\"\\t\",end=\"\")\n",
    "\n",
    "        idx = dirpath.rfind(\"\\\\\")\n",
    "    #     print(idx)\n",
    "        print(\"|- \"+dirpath[idx+1:])"
   ]
  },
  {
   "cell_type": "code",
   "execution_count": null,
   "id": "180e26d8",
   "metadata": {},
   "outputs": [],
   "source": []
  },
  {
   "cell_type": "code",
   "execution_count": null,
   "id": "e73a6fa0",
   "metadata": {},
   "outputs": [],
   "source": []
  }
 ],
 "metadata": {
  "kernelspec": {
   "display_name": "Python 3",
   "language": "python",
   "name": "python3"
  },
  "language_info": {
   "codemirror_mode": {
    "name": "ipython",
    "version": 3
   },
   "file_extension": ".py",
   "mimetype": "text/x-python",
   "name": "python",
   "nbconvert_exporter": "python",
   "pygments_lexer": "ipython3",
   "version": "3.6.13"
  }
 },
 "nbformat": 4,
 "nbformat_minor": 5
}
