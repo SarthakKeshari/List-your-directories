{
 "cells": [
  {
   "cell_type": "code",
   "execution_count": 34,
   "id": "db61a551",
   "metadata": {},
   "outputs": [
    {
     "name": "stdout",
     "output_type": "stream",
     "text": [
      "|- Data Structure\n",
      "\t|- Graph\n",
      "\t|- Linked List\n",
      "\t|- Queue\n",
      "\t|- Stack\n",
      "\t|- Trees\n",
      "|- Dynamic Programming\n",
      "|- Searching\n",
      "|- Sorting\n",
      "|- String Handling\n"
     ]
    }
   ],
   "source": [
    "import os\n",
    " \n",
    "target_dir = \"C:\\Z_Sarthak\\Personal\\Coding\\Java-Questions\"\n",
    " \n",
    "# List all directories.\n",
    "for (dirpath, dirname, filename) in os.walk(target_dir):\n",
    "    dirpath = dirpath[len(target_dir):]\n",
    "#     print(dirpath)\n",
    "    if(len(dirpath)!=0):\n",
    "        for i in range(dirpath.count(\"\\\\\")-1):\n",
    "            print(\"\\t\",end=\"\")\n",
    "\n",
    "        idx = dirpath.rfind(\"\\\\\")\n",
    "    #     print(idx)\n",
    "        print(\"|- \"+dirpath[idx+1:])"
   ]
  },
  {
   "cell_type": "code",
   "execution_count": null,
   "id": "180e26d8",
   "metadata": {},
   "outputs": [],
   "source": []
  },
  {
   "cell_type": "code",
   "execution_count": null,
   "id": "e73a6fa0",
   "metadata": {},
   "outputs": [],
   "source": []
  }
 ],
 "metadata": {
  "kernelspec": {
   "display_name": "Python 3",
   "language": "python",
   "name": "python3"
  },
  "language_info": {
   "codemirror_mode": {
    "name": "ipython",
    "version": 3
   },
   "file_extension": ".py",
   "mimetype": "text/x-python",
   "name": "python",
   "nbconvert_exporter": "python",
   "pygments_lexer": "ipython3",
   "version": "3.6.13"
  }
 },
 "nbformat": 4,
 "nbformat_minor": 5
}
